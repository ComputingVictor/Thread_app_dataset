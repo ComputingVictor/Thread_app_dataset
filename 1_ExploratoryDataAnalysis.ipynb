{
 "cells": [
  {
   "cell_type": "markdown",
   "id": "cc00bbbd",
   "metadata": {
    "papermill": {
     "duration": 0.007656,
     "end_time": "2023-08-21T09:00:41.196431",
     "exception": false,
     "start_time": "2023-08-21T09:00:41.188775",
     "status": "completed"
    },
    "tags": []
   },
   "source": [
    "<a name=\"top\"> <h1>1. Exploratory Data Analysis</h1> <a>\n",
    "    \n",
    "<strong>Multiclass sentiment analysis of the users</strong><br />\n",
    "    \n",
    "Thread app dataset: 37000 entities\n",
    "\n",
    "\n",
    "<p style=\"text-align:right\">V&iacute;ctor Viloria  (<em>ComputingVictor</em>)</p>\n",
    "\n"
   ]
  },
  {
   "cell_type": "markdown",
   "id": "cc7b273d",
   "metadata": {
    "papermill": {
     "duration": 0.006633,
     "end_time": "2023-08-21T09:00:41.210452",
     "exception": false,
     "start_time": "2023-08-21T09:00:41.203819",
     "status": "completed"
    },
    "tags": []
   },
   "source": [
    "<hr style=\"border:1px solid gray\">"
   ]
  },
  {
   "cell_type": "markdown",
   "id": "bbe8277f",
   "metadata": {
    "papermill": {
     "duration": 0.009019,
     "end_time": "2023-08-21T09:00:41.228931",
     "exception": false,
     "start_time": "2023-08-21T09:00:41.219912",
     "status": "completed"
    },
    "tags": []
   },
   "source": [
    "### Structure"
   ]
  },
  {
   "cell_type": "markdown",
   "id": "9391c8e0",
   "metadata": {
    "papermill": {
     "duration": 0.010194,
     "end_time": "2023-08-21T09:00:41.247475",
     "exception": false,
     "start_time": "2023-08-21T09:00:41.237281",
     "status": "completed"
    },
    "tags": []
   },
   "source": [
    "[Introduction](#introduccion) \n",
    "\n",
    "[1. Python libraries](#librerias) \n",
    "\n",
    "[2. Data Loading](#lectura) \n",
    "\n",
    "[3. Tokenización de las reviews ](#tokenizacion) \n",
    "\n",
    "   - 3.1 Conversión a lowercase\n",
    "   - 3.2 Borrado de emoticonos\n",
    "   - 3.3 Borrado de signos de puntuación y saltos de texto\n",
    "   - 3.4 Tokenización y supresión de stopwords\n",
    "\n",
    "[4. Wordcloud e histograma](#wordcloud) \n",
    "\n",
    "\n",
    "[5. Exportación del DF](#exportacion)"
   ]
  },
  {
   "cell_type": "markdown",
   "id": "284b604f",
   "metadata": {
    "papermill": {
     "duration": 0.00735,
     "end_time": "2023-08-21T09:00:41.263487",
     "exception": false,
     "start_time": "2023-08-21T09:00:41.256137",
     "status": "completed"
    },
    "tags": []
   },
   "source": [
    "<hr style=\"border:1px solid gray\">"
   ]
  },
  {
   "cell_type": "markdown",
   "id": "9fb915bb",
   "metadata": {
    "papermill": {
     "duration": 0.009165,
     "end_time": "2023-08-21T09:00:41.279705",
     "exception": false,
     "start_time": "2023-08-21T09:00:41.270540",
     "status": "completed"
    },
    "tags": []
   },
   "source": [
    "# <a name=\"introduccion\"> Introduction <a>"
   ]
  },
  {
   "cell_type": "markdown",
   "id": "f660d76d",
   "metadata": {
    "papermill": {
     "duration": 0.008248,
     "end_time": "2023-08-21T09:00:41.295584",
     "exception": false,
     "start_time": "2023-08-21T09:00:41.287336",
     "status": "completed"
    },
    "tags": []
   },
   "source": [
    "In this notebook, We will use the *Thread app dataset: 37000 entities*, we will proceed with data preprocessing for natural language processing (NLP) on reviews posted on the Threads app. Then we will train different models, MLand Neuronal networks to predict the sentiment of each review."
   ]
  },
  {
   "cell_type": "markdown",
   "id": "fa196d2f",
   "metadata": {
    "papermill": {
     "duration": 0.00971,
     "end_time": "2023-08-21T09:00:41.313243",
     "exception": false,
     "start_time": "2023-08-21T09:00:41.303533",
     "status": "completed"
    },
    "tags": []
   },
   "source": [
    "# <a name=\"librerias\"> 1. Python libraries <a>\n"
   ]
  },
  {
   "cell_type": "code",
   "execution_count": 1,
   "id": "bf169d24",
   "metadata": {
    "execution": {
     "iopub.execute_input": "2023-08-21T09:00:41.333991Z",
     "iopub.status.busy": "2023-08-21T09:00:41.333033Z",
     "iopub.status.idle": "2023-08-21T09:00:44.018673Z",
     "shell.execute_reply": "2023-08-21T09:00:44.017141Z"
    },
    "papermill": {
     "duration": 2.699375,
     "end_time": "2023-08-21T09:00:44.021977",
     "exception": false,
     "start_time": "2023-08-21T09:00:41.322602",
     "status": "completed"
    },
    "tags": []
   },
   "outputs": [
    {
     "name": "stderr",
     "output_type": "stream",
     "text": [
      "/opt/conda/lib/python3.10/site-packages/scipy/__init__.py:146: UserWarning: A NumPy version >=1.16.5 and <1.23.0 is required for this version of SciPy (detected version 1.23.5\n",
      "  warnings.warn(f\"A NumPy version >={np_minversion} and <{np_maxversion}\"\n"
     ]
    },
    {
     "name": "stdout",
     "output_type": "stream",
     "text": [
      "[nltk_data] Downloading package punkt to /usr/share/nltk_data...\n",
      "[nltk_data]   Package punkt is already up-to-date!\n",
      "[nltk_data] Downloading package stopwords to /usr/share/nltk_data...\n",
      "[nltk_data]   Package stopwords is already up-to-date!\n"
     ]
    }
   ],
   "source": [
    "# Import pandas.\n",
    "\n",
    "import pandas as pd\n",
    "\n",
    "# Import nltk.\n",
    "\n",
    "import nltk\n",
    "nltk.download('punkt')\n",
    "\n",
    "# Import nltk stopwords.\n",
    "\n",
    "nltk.download('stopwords')\n",
    "from nltk.corpus import stopwords\n",
    "from collections import Counter\n",
    "\n",
    "# Import wordcloud and matplotlib.\n",
    "\n",
    "from wordcloud import WordCloud\n",
    "import matplotlib.pyplot as plt\n",
    "import seaborn as sns"
   ]
  },
  {
   "cell_type": "markdown",
   "id": "15f9c26d",
   "metadata": {
    "papermill": {
     "duration": 0.007725,
     "end_time": "2023-08-21T09:00:44.037499",
     "exception": false,
     "start_time": "2023-08-21T09:00:44.029774",
     "status": "completed"
    },
    "tags": []
   },
   "source": [
    "# <a name=\"lectura\"> 2. Data Loading <a>\n"
   ]
  },
  {
   "cell_type": "code",
   "execution_count": 2,
   "id": "666a66d5",
   "metadata": {
    "execution": {
     "iopub.execute_input": "2023-08-21T09:00:44.054486Z",
     "iopub.status.busy": "2023-08-21T09:00:44.054043Z",
     "iopub.status.idle": "2023-08-21T09:00:44.456779Z",
     "shell.execute_reply": "2023-08-21T09:00:44.455610Z"
    },
    "papermill": {
     "duration": 0.413603,
     "end_time": "2023-08-21T09:00:44.459088",
     "exception": false,
     "start_time": "2023-08-21T09:00:44.045485",
     "status": "completed"
    },
    "tags": []
   },
   "outputs": [
    {
     "data": {
      "text/html": [
       "<div>\n",
       "<style scoped>\n",
       "    .dataframe tbody tr th:only-of-type {\n",
       "        vertical-align: middle;\n",
       "    }\n",
       "\n",
       "    .dataframe tbody tr th {\n",
       "        vertical-align: top;\n",
       "    }\n",
       "\n",
       "    .dataframe thead th {\n",
       "        text-align: right;\n",
       "    }\n",
       "</style>\n",
       "<table border=\"1\" class=\"dataframe\">\n",
       "  <thead>\n",
       "    <tr style=\"text-align: right;\">\n",
       "      <th></th>\n",
       "      <th>source</th>\n",
       "      <th>review_id</th>\n",
       "      <th>user_name</th>\n",
       "      <th>review_title</th>\n",
       "      <th>review_description</th>\n",
       "      <th>rating</th>\n",
       "      <th>thumbs_up</th>\n",
       "      <th>review_date</th>\n",
       "      <th>developer_response</th>\n",
       "      <th>developer_response_date</th>\n",
       "      <th>appVersion</th>\n",
       "      <th>laguage_code</th>\n",
       "      <th>country_code</th>\n",
       "    </tr>\n",
       "  </thead>\n",
       "  <tbody>\n",
       "    <tr>\n",
       "      <th>0</th>\n",
       "      <td>Google Play</td>\n",
       "      <td>7cd90e5b-4829-43b9-9fb4-c8c6d1e339c1</td>\n",
       "      <td>Eddie Clark Jr.</td>\n",
       "      <td>NaN</td>\n",
       "      <td>Good</td>\n",
       "      <td>5</td>\n",
       "      <td>0.0</td>\n",
       "      <td>2023-08-07 19:14:36</td>\n",
       "      <td>NaN</td>\n",
       "      <td>NaN</td>\n",
       "      <td>294.0.0.27.110</td>\n",
       "      <td>en</td>\n",
       "      <td>us</td>\n",
       "    </tr>\n",
       "    <tr>\n",
       "      <th>1</th>\n",
       "      <td>Google Play</td>\n",
       "      <td>6deb8265-2bac-4524-bcb6-f90829fa4e69</td>\n",
       "      <td>Rasa RT</td>\n",
       "      <td>NaN</td>\n",
       "      <td>Weak copy of Twitter</td>\n",
       "      <td>1</td>\n",
       "      <td>0.0</td>\n",
       "      <td>2023-08-07 19:07:04</td>\n",
       "      <td>NaN</td>\n",
       "      <td>NaN</td>\n",
       "      <td>NaN</td>\n",
       "      <td>en</td>\n",
       "      <td>us</td>\n",
       "    </tr>\n",
       "    <tr>\n",
       "      <th>2</th>\n",
       "      <td>Google Play</td>\n",
       "      <td>91ef61ce-0f05-4f3b-b3d3-5d19cd408ab8</td>\n",
       "      <td>SITI NUR HAFIZA BINTI AZIZ</td>\n",
       "      <td>NaN</td>\n",
       "      <td>i wish threads have a save button for images a...</td>\n",
       "      <td>3</td>\n",
       "      <td>0.0</td>\n",
       "      <td>2023-08-07 18:57:07</td>\n",
       "      <td>NaN</td>\n",
       "      <td>NaN</td>\n",
       "      <td>294.0.0.27.110</td>\n",
       "      <td>en</td>\n",
       "      <td>us</td>\n",
       "    </tr>\n",
       "    <tr>\n",
       "      <th>3</th>\n",
       "      <td>Google Play</td>\n",
       "      <td>b7721b78-6b77-4f8c-a1d3-a854af4c1f0f</td>\n",
       "      <td>Asap Khalifah</td>\n",
       "      <td>NaN</td>\n",
       "      <td>Love it</td>\n",
       "      <td>5</td>\n",
       "      <td>0.0</td>\n",
       "      <td>2023-08-07 18:37:16</td>\n",
       "      <td>NaN</td>\n",
       "      <td>NaN</td>\n",
       "      <td>NaN</td>\n",
       "      <td>en</td>\n",
       "      <td>us</td>\n",
       "    </tr>\n",
       "    <tr>\n",
       "      <th>4</th>\n",
       "      <td>Google Play</td>\n",
       "      <td>c89ef522-c94c-4171-878f-1d672dce7f11</td>\n",
       "      <td>Syed Hussein</td>\n",
       "      <td>NaN</td>\n",
       "      <td>Very god</td>\n",
       "      <td>5</td>\n",
       "      <td>0.0</td>\n",
       "      <td>2023-08-07 18:14:15</td>\n",
       "      <td>NaN</td>\n",
       "      <td>NaN</td>\n",
       "      <td>NaN</td>\n",
       "      <td>en</td>\n",
       "      <td>us</td>\n",
       "    </tr>\n",
       "  </tbody>\n",
       "</table>\n",
       "</div>"
      ],
      "text/plain": [
       "        source                             review_id  \\\n",
       "0  Google Play  7cd90e5b-4829-43b9-9fb4-c8c6d1e339c1   \n",
       "1  Google Play  6deb8265-2bac-4524-bcb6-f90829fa4e69   \n",
       "2  Google Play  91ef61ce-0f05-4f3b-b3d3-5d19cd408ab8   \n",
       "3  Google Play  b7721b78-6b77-4f8c-a1d3-a854af4c1f0f   \n",
       "4  Google Play  c89ef522-c94c-4171-878f-1d672dce7f11   \n",
       "\n",
       "                    user_name review_title  \\\n",
       "0             Eddie Clark Jr.          NaN   \n",
       "1                     Rasa RT          NaN   \n",
       "2  SITI NUR HAFIZA BINTI AZIZ          NaN   \n",
       "3               Asap Khalifah          NaN   \n",
       "4                Syed Hussein          NaN   \n",
       "\n",
       "                                  review_description  rating  thumbs_up  \\\n",
       "0                                               Good       5        0.0   \n",
       "1                               Weak copy of Twitter       1        0.0   \n",
       "2  i wish threads have a save button for images a...       3        0.0   \n",
       "3                                            Love it       5        0.0   \n",
       "4                                           Very god       5        0.0   \n",
       "\n",
       "           review_date  developer_response  developer_response_date  \\\n",
       "0  2023-08-07 19:14:36                 NaN                      NaN   \n",
       "1  2023-08-07 19:07:04                 NaN                      NaN   \n",
       "2  2023-08-07 18:57:07                 NaN                      NaN   \n",
       "3  2023-08-07 18:37:16                 NaN                      NaN   \n",
       "4  2023-08-07 18:14:15                 NaN                      NaN   \n",
       "\n",
       "       appVersion laguage_code country_code  \n",
       "0  294.0.0.27.110           en           us  \n",
       "1             NaN           en           us  \n",
       "2  294.0.0.27.110           en           us  \n",
       "3             NaN           en           us  \n",
       "4             NaN           en           us  "
      ]
     },
     "execution_count": 2,
     "metadata": {},
     "output_type": "execute_result"
    }
   ],
   "source": [
    "# Load the csv file.\n",
    "\n",
    "threads_df = pd.read_csv(\"/kaggle/input/37000-reviews-of-thread-app-dataset/37000_reviews_of_thread_app.csv\",index_col=[0])\n",
    "\n",
    "# Display the first rows.\n",
    "\n",
    "threads_df.head(5)"
   ]
  },
  {
   "cell_type": "markdown",
   "id": "d06bbada",
   "metadata": {
    "papermill": {
     "duration": 0.007358,
     "end_time": "2023-08-21T09:00:44.474165",
     "exception": false,
     "start_time": "2023-08-21T09:00:44.466807",
     "status": "completed"
    },
    "tags": []
   },
   "source": [
    "# 3. Exploratory data analysis"
   ]
  },
  {
   "cell_type": "markdown",
   "id": "d3ab64a4",
   "metadata": {
    "papermill": {
     "duration": 0.007445,
     "end_time": "2023-08-21T09:00:44.489263",
     "exception": false,
     "start_time": "2023-08-21T09:00:44.481818",
     "status": "completed"
    },
    "tags": []
   },
   "source": [
    "## 3.1 Shape and types"
   ]
  },
  {
   "cell_type": "code",
   "execution_count": 3,
   "id": "2e77ef75",
   "metadata": {
    "execution": {
     "iopub.execute_input": "2023-08-21T09:00:44.506896Z",
     "iopub.status.busy": "2023-08-21T09:00:44.506495Z",
     "iopub.status.idle": "2023-08-21T09:00:44.577301Z",
     "shell.execute_reply": "2023-08-21T09:00:44.576056Z"
    },
    "papermill": {
     "duration": 0.082843,
     "end_time": "2023-08-21T09:00:44.579743",
     "exception": false,
     "start_time": "2023-08-21T09:00:44.496900",
     "status": "completed"
    },
    "tags": []
   },
   "outputs": [
    {
     "name": "stdout",
     "output_type": "stream",
     "text": [
      "The dataframe has 36943 rows and 13 columns.\n",
      "---------------------------------------------------------------------------------------\n",
      "<class 'pandas.core.frame.DataFrame'>\n",
      "Int64Index: 36943 entries, 0 to 1999\n",
      "Data columns (total 13 columns):\n",
      " #   Column                   Non-Null Count  Dtype  \n",
      "---  ------                   --------------  -----  \n",
      " 0   source                   36943 non-null  object \n",
      " 1   review_id                36943 non-null  object \n",
      " 2   user_name                36943 non-null  object \n",
      " 3   review_title             2000 non-null   object \n",
      " 4   review_description       36943 non-null  object \n",
      " 5   rating                   36943 non-null  int64  \n",
      " 6   thumbs_up                34943 non-null  float64\n",
      " 7   review_date              36943 non-null  object \n",
      " 8   developer_response       0 non-null      float64\n",
      " 9   developer_response_date  0 non-null      float64\n",
      " 10  appVersion               24855 non-null  object \n",
      " 11  laguage_code             36943 non-null  object \n",
      " 12  country_code             36943 non-null  object \n",
      "dtypes: float64(3), int64(1), object(9)\n",
      "memory usage: 3.9+ MB\n"
     ]
    }
   ],
   "source": [
    "# Print the shape of the dataframe.\n",
    "\n",
    "print(\"The dataframe has {} rows and {} columns.\".format(threads_df.shape[0], threads_df.shape[1]))\n",
    "\n",
    "print(\"---------------------------------------------------------------------------------------\")\n",
    "\n",
    "# Print the column names and datatypes.\n",
    "\n",
    "threads_df.info()"
   ]
  },
  {
   "cell_type": "markdown",
   "id": "9e29a313",
   "metadata": {
    "papermill": {
     "duration": 0.007361,
     "end_time": "2023-08-21T09:00:44.594836",
     "exception": false,
     "start_time": "2023-08-21T09:00:44.587475",
     "status": "completed"
    },
    "tags": []
   },
   "source": [
    "## 3.2 Nulls"
   ]
  },
  {
   "cell_type": "code",
   "execution_count": 4,
   "id": "1baac475",
   "metadata": {
    "execution": {
     "iopub.execute_input": "2023-08-21T09:00:44.612292Z",
     "iopub.status.busy": "2023-08-21T09:00:44.611884Z",
     "iopub.status.idle": "2023-08-21T09:00:44.672573Z",
     "shell.execute_reply": "2023-08-21T09:00:44.671403Z"
    },
    "papermill": {
     "duration": 0.072178,
     "end_time": "2023-08-21T09:00:44.674946",
     "exception": false,
     "start_time": "2023-08-21T09:00:44.602768",
     "status": "completed"
    },
    "tags": []
   },
   "outputs": [
    {
     "data": {
      "text/plain": [
       "source                         0\n",
       "review_id                      0\n",
       "user_name                      0\n",
       "review_title               34943\n",
       "review_description             0\n",
       "rating                         0\n",
       "thumbs_up                   2000\n",
       "review_date                    0\n",
       "developer_response         36943\n",
       "developer_response_date    36943\n",
       "appVersion                 12088\n",
       "laguage_code                   0\n",
       "country_code                   0\n",
       "dtype: int64"
      ]
     },
     "execution_count": 4,
     "metadata": {},
     "output_type": "execute_result"
    }
   ],
   "source": [
    "# Print the number of null values in each column.\n",
    "\n",
    "threads_df.isnull().sum()"
   ]
  },
  {
   "cell_type": "markdown",
   "id": "d9d31802",
   "metadata": {
    "papermill": {
     "duration": 0.007925,
     "end_time": "2023-08-21T09:00:44.690813",
     "exception": false,
     "start_time": "2023-08-21T09:00:44.682888",
     "status": "completed"
    },
    "tags": []
   },
   "source": [
    "We notice that there are some rows with high number of null data that are irrelevant for our analysis, we proceed to drop them. For `thumbs_up` we will convert the nulls to 0."
   ]
  },
  {
   "cell_type": "code",
   "execution_count": 5,
   "id": "401405ae",
   "metadata": {
    "execution": {
     "iopub.execute_input": "2023-08-21T09:00:44.708954Z",
     "iopub.status.busy": "2023-08-21T09:00:44.708577Z",
     "iopub.status.idle": "2023-08-21T09:00:44.730546Z",
     "shell.execute_reply": "2023-08-21T09:00:44.729288Z"
    },
    "papermill": {
     "duration": 0.033843,
     "end_time": "2023-08-21T09:00:44.732851",
     "exception": false,
     "start_time": "2023-08-21T09:00:44.699008",
     "status": "completed"
    },
    "tags": []
   },
   "outputs": [
    {
     "data": {
      "text/html": [
       "<div>\n",
       "<style scoped>\n",
       "    .dataframe tbody tr th:only-of-type {\n",
       "        vertical-align: middle;\n",
       "    }\n",
       "\n",
       "    .dataframe tbody tr th {\n",
       "        vertical-align: top;\n",
       "    }\n",
       "\n",
       "    .dataframe thead th {\n",
       "        text-align: right;\n",
       "    }\n",
       "</style>\n",
       "<table border=\"1\" class=\"dataframe\">\n",
       "  <thead>\n",
       "    <tr style=\"text-align: right;\">\n",
       "      <th></th>\n",
       "      <th>source</th>\n",
       "      <th>review_id</th>\n",
       "      <th>user_name</th>\n",
       "      <th>review_description</th>\n",
       "      <th>rating</th>\n",
       "      <th>thumbs_up</th>\n",
       "      <th>review_date</th>\n",
       "      <th>laguage_code</th>\n",
       "      <th>country_code</th>\n",
       "    </tr>\n",
       "  </thead>\n",
       "  <tbody>\n",
       "    <tr>\n",
       "      <th>0</th>\n",
       "      <td>Google Play</td>\n",
       "      <td>7cd90e5b-4829-43b9-9fb4-c8c6d1e339c1</td>\n",
       "      <td>Eddie Clark Jr.</td>\n",
       "      <td>Good</td>\n",
       "      <td>5</td>\n",
       "      <td>0.0</td>\n",
       "      <td>2023-08-07 19:14:36</td>\n",
       "      <td>en</td>\n",
       "      <td>us</td>\n",
       "    </tr>\n",
       "    <tr>\n",
       "      <th>1</th>\n",
       "      <td>Google Play</td>\n",
       "      <td>6deb8265-2bac-4524-bcb6-f90829fa4e69</td>\n",
       "      <td>Rasa RT</td>\n",
       "      <td>Weak copy of Twitter</td>\n",
       "      <td>1</td>\n",
       "      <td>0.0</td>\n",
       "      <td>2023-08-07 19:07:04</td>\n",
       "      <td>en</td>\n",
       "      <td>us</td>\n",
       "    </tr>\n",
       "    <tr>\n",
       "      <th>2</th>\n",
       "      <td>Google Play</td>\n",
       "      <td>91ef61ce-0f05-4f3b-b3d3-5d19cd408ab8</td>\n",
       "      <td>SITI NUR HAFIZA BINTI AZIZ</td>\n",
       "      <td>i wish threads have a save button for images a...</td>\n",
       "      <td>3</td>\n",
       "      <td>0.0</td>\n",
       "      <td>2023-08-07 18:57:07</td>\n",
       "      <td>en</td>\n",
       "      <td>us</td>\n",
       "    </tr>\n",
       "    <tr>\n",
       "      <th>3</th>\n",
       "      <td>Google Play</td>\n",
       "      <td>b7721b78-6b77-4f8c-a1d3-a854af4c1f0f</td>\n",
       "      <td>Asap Khalifah</td>\n",
       "      <td>Love it</td>\n",
       "      <td>5</td>\n",
       "      <td>0.0</td>\n",
       "      <td>2023-08-07 18:37:16</td>\n",
       "      <td>en</td>\n",
       "      <td>us</td>\n",
       "    </tr>\n",
       "    <tr>\n",
       "      <th>4</th>\n",
       "      <td>Google Play</td>\n",
       "      <td>c89ef522-c94c-4171-878f-1d672dce7f11</td>\n",
       "      <td>Syed Hussein</td>\n",
       "      <td>Very god</td>\n",
       "      <td>5</td>\n",
       "      <td>0.0</td>\n",
       "      <td>2023-08-07 18:14:15</td>\n",
       "      <td>en</td>\n",
       "      <td>us</td>\n",
       "    </tr>\n",
       "  </tbody>\n",
       "</table>\n",
       "</div>"
      ],
      "text/plain": [
       "        source                             review_id  \\\n",
       "0  Google Play  7cd90e5b-4829-43b9-9fb4-c8c6d1e339c1   \n",
       "1  Google Play  6deb8265-2bac-4524-bcb6-f90829fa4e69   \n",
       "2  Google Play  91ef61ce-0f05-4f3b-b3d3-5d19cd408ab8   \n",
       "3  Google Play  b7721b78-6b77-4f8c-a1d3-a854af4c1f0f   \n",
       "4  Google Play  c89ef522-c94c-4171-878f-1d672dce7f11   \n",
       "\n",
       "                    user_name  \\\n",
       "0             Eddie Clark Jr.   \n",
       "1                     Rasa RT   \n",
       "2  SITI NUR HAFIZA BINTI AZIZ   \n",
       "3               Asap Khalifah   \n",
       "4                Syed Hussein   \n",
       "\n",
       "                                  review_description  rating  thumbs_up  \\\n",
       "0                                               Good       5        0.0   \n",
       "1                               Weak copy of Twitter       1        0.0   \n",
       "2  i wish threads have a save button for images a...       3        0.0   \n",
       "3                                            Love it       5        0.0   \n",
       "4                                           Very god       5        0.0   \n",
       "\n",
       "           review_date laguage_code country_code  \n",
       "0  2023-08-07 19:14:36           en           us  \n",
       "1  2023-08-07 19:07:04           en           us  \n",
       "2  2023-08-07 18:57:07           en           us  \n",
       "3  2023-08-07 18:37:16           en           us  \n",
       "4  2023-08-07 18:14:15           en           us  "
      ]
     },
     "execution_count": 5,
     "metadata": {},
     "output_type": "execute_result"
    }
   ],
   "source": [
    "# Drop the developer columns, appVersion and review_title variable.\n",
    "\n",
    "threads_df = threads_df.drop(['review_title', 'developer_response', 'developer_response_date', 'appVersion'], axis=1)\n",
    "\n",
    "# Convert nulls of thumbs_up to 0.\n",
    "\n",
    "threads_df['thumbs_up'] = threads_df['thumbs_up'].fillna(0)\n",
    "\n",
    "# Display the first rows of \"threads_df\".\n",
    "\n",
    "threads_df.head(5)"
   ]
  },
  {
   "cell_type": "code",
   "execution_count": 6,
   "id": "d21d6715",
   "metadata": {
    "execution": {
     "iopub.execute_input": "2023-08-21T09:00:44.751897Z",
     "iopub.status.busy": "2023-08-21T09:00:44.751523Z",
     "iopub.status.idle": "2023-08-21T09:00:44.801019Z",
     "shell.execute_reply": "2023-08-21T09:00:44.800155Z"
    },
    "papermill": {
     "duration": 0.062217,
     "end_time": "2023-08-21T09:00:44.803396",
     "exception": false,
     "start_time": "2023-08-21T09:00:44.741179",
     "status": "completed"
    },
    "tags": []
   },
   "outputs": [
    {
     "data": {
      "text/plain": [
       "source                0\n",
       "review_id             0\n",
       "user_name             0\n",
       "review_description    0\n",
       "rating                0\n",
       "thumbs_up             0\n",
       "review_date           0\n",
       "laguage_code          0\n",
       "country_code          0\n",
       "dtype: int64"
      ]
     },
     "execution_count": 6,
     "metadata": {},
     "output_type": "execute_result"
    }
   ],
   "source": [
    "# Print the number of null values in each column.\n",
    "\n",
    "threads_df.isnull().sum()"
   ]
  },
  {
   "cell_type": "markdown",
   "id": "9e9531c6",
   "metadata": {
    "papermill": {
     "duration": 0.00836,
     "end_time": "2023-08-21T09:00:44.820181",
     "exception": false,
     "start_time": "2023-08-21T09:00:44.811821",
     "status": "completed"
    },
    "tags": []
   },
   "source": [
    "## 3.3 Numerical Analysis"
   ]
  },
  {
   "cell_type": "markdown",
   "id": "de32dcbe",
   "metadata": {
    "papermill": {
     "duration": 0.008157,
     "end_time": "2023-08-21T09:00:44.836874",
     "exception": false,
     "start_time": "2023-08-21T09:00:44.828717",
     "status": "completed"
    },
    "tags": []
   },
   "source": [
    "### 3.3.1. Unique Values"
   ]
  },
  {
   "cell_type": "markdown",
   "id": "703be34a",
   "metadata": {
    "papermill": {
     "duration": 0.008229,
     "end_time": "2023-08-21T09:00:44.853468",
     "exception": false,
     "start_time": "2023-08-21T09:00:44.845239",
     "status": "completed"
    },
    "tags": []
   },
   "source": [
    "First of all, we will check the unique values for the most important variables"
   ]
  },
  {
   "cell_type": "code",
   "execution_count": 7,
   "id": "e9b47ac1",
   "metadata": {
    "execution": {
     "iopub.execute_input": "2023-08-21T09:00:44.871548Z",
     "iopub.status.busy": "2023-08-21T09:00:44.871160Z",
     "iopub.status.idle": "2023-08-21T09:00:44.887675Z",
     "shell.execute_reply": "2023-08-21T09:00:44.886453Z"
    },
    "papermill": {
     "duration": 0.028293,
     "end_time": "2023-08-21T09:00:44.890087",
     "exception": false,
     "start_time": "2023-08-21T09:00:44.861794",
     "status": "completed"
    },
    "tags": []
   },
   "outputs": [
    {
     "name": "stdout",
     "output_type": "stream",
     "text": [
      "Unique values for source: ['Google Play' 'App Store']\n",
      "Unique values for rating: [5 1 3 2 4]\n",
      "Unique values for language_code: ['en']\n",
      "Unique values for country_code: ['us']\n"
     ]
    }
   ],
   "source": [
    "# Check unique values\n",
    "unique_sources = threads_df['source'].unique()\n",
    "unique_ratings = threads_df['rating'].unique()\n",
    "unique_languages = threads_df['laguage_code'].unique()\n",
    "unique_countries = threads_df['country_code'].unique()\n",
    "unique_thumbs_up = threads_df['thumbs_up'].unique()\n",
    "\n",
    "print(\"Unique values for source:\", unique_sources)\n",
    "print(\"Unique values for rating:\", unique_ratings)\n",
    "print(\"Unique values for language_code:\", unique_languages)\n",
    "print(\"Unique values for country_code:\", unique_countries)"
   ]
  },
  {
   "cell_type": "markdown",
   "id": "f75cac1b",
   "metadata": {
    "papermill": {
     "duration": 0.008003,
     "end_time": "2023-08-21T09:00:44.906458",
     "exception": false,
     "start_time": "2023-08-21T09:00:44.898455",
     "status": "completed"
    },
    "tags": []
   },
   "source": [
    "We found multiple variables in `ratings` and `source`. Let's check the number of reviews by rating."
   ]
  },
  {
   "cell_type": "markdown",
   "id": "76688c1b",
   "metadata": {
    "papermill": {
     "duration": 0.008131,
     "end_time": "2023-08-21T09:00:44.923145",
     "exception": false,
     "start_time": "2023-08-21T09:00:44.915014",
     "status": "completed"
    },
    "tags": []
   },
   "source": [
    "### 3.3.2. Number of Reviews by rating"
   ]
  },
  {
   "cell_type": "code",
   "execution_count": 8,
   "id": "b0a3ea38",
   "metadata": {
    "execution": {
     "iopub.execute_input": "2023-08-21T09:00:44.941042Z",
     "iopub.status.busy": "2023-08-21T09:00:44.940685Z",
     "iopub.status.idle": "2023-08-21T09:00:45.326783Z",
     "shell.execute_reply": "2023-08-21T09:00:45.325480Z"
    },
    "papermill": {
     "duration": 0.39942,
     "end_time": "2023-08-21T09:00:45.330675",
     "exception": false,
     "start_time": "2023-08-21T09:00:44.931255",
     "status": "completed"
    },
    "tags": []
   },
   "outputs": [
    {
     "data": {
      "image/png": "[encoded data removed]",
      "text/plain": [
       "<Figure size 640x480 with 1 Axes>"
      ]
     },
     "metadata": {},
     "output_type": "display_data"
    }
   ],
   "source": [
    "# Group by 'rating' and count reviews.\n",
    "ratings_count = threads_df['rating'].value_counts().sort_index()\n",
    "\n",
    "# Plot.\n",
    "ratings_count.plot(kind='bar', color='skyblue')\n",
    "plt.xlabel('Rating')\n",
    "plt.ylabel('Number of Reviews')\n",
    "plt.title('Number of Reviews by Rating')\n",
    "plt.xticks(rotation=0)\n",
    "plt.tight_layout()\n",
    "plt.show()"
   ]
  },
  {
   "cell_type": "markdown",
   "id": "37188dc0",
   "metadata": {
    "papermill": {
     "duration": 0.008233,
     "end_time": "2023-08-21T09:00:45.348366",
     "exception": false,
     "start_time": "2023-08-21T09:00:45.340133",
     "status": "completed"
    },
    "tags": []
   },
   "source": [
    "As we can see, the ratings are polarized. With the 1 and 5 ratings with +10k values, wile the other rating values have less data."
   ]
  },
  {
   "cell_type": "markdown",
   "id": "e1602176",
   "metadata": {
    "papermill": {
     "duration": 0.008709,
     "end_time": "2023-08-21T09:00:45.365581",
     "exception": false,
     "start_time": "2023-08-21T09:00:45.356872",
     "status": "completed"
    },
    "tags": []
   },
   "source": [
    "### 3.3.3. Top 5 of total thumbs in the dataset"
   ]
  },
  {
   "cell_type": "code",
   "execution_count": 9,
   "id": "96c737ac",
   "metadata": {
    "execution": {
     "iopub.execute_input": "2023-08-21T09:00:45.385311Z",
     "iopub.status.busy": "2023-08-21T09:00:45.384920Z",
     "iopub.status.idle": "2023-08-21T09:00:45.696047Z",
     "shell.execute_reply": "2023-08-21T09:00:45.694758Z"
    },
    "papermill": {
     "duration": 0.323853,
     "end_time": "2023-08-21T09:00:45.698602",
     "exception": false,
     "start_time": "2023-08-21T09:00:45.374749",
     "status": "completed"
    },
    "tags": []
   },
   "outputs": [
    {
     "data": {
      "image/png": "[encoded data removed]",
      "text/plain": [
       "<Figure size 640x480 with 1 Axes>"
      ]
     },
     "metadata": {},
     "output_type": "display_data"
    }
   ],
   "source": [
    "# Group by 'source' and count reviews.\n",
    "thumbs_count = threads_df['thumbs_up'].value_counts().sort_values(ascending=False)\n",
    "\n",
    "thumbs_count.head(5).plot(kind='bar')\n",
    "plt.xlabel('Rating')\n",
    "plt.ylabel('Number of Reviews')\n",
    "plt.title('Number of Reviews by Store')\n",
    "plt.xticks(rotation=0)\n",
    "plt.tight_layout()\n",
    "plt.show()"
   ]
  },
  {
   "cell_type": "markdown",
   "id": "51833c19",
   "metadata": {
    "papermill": {
     "duration": 0.008676,
     "end_time": "2023-08-21T09:00:45.716443",
     "exception": false,
     "start_time": "2023-08-21T09:00:45.707767",
     "status": "completed"
    },
    "tags": []
   },
   "source": [
    "### 3.3.4. Number of Reviews by Store"
   ]
  },
  {
   "cell_type": "code",
   "execution_count": 10,
   "id": "6ba830b2",
   "metadata": {
    "execution": {
     "iopub.execute_input": "2023-08-21T09:00:45.737044Z",
     "iopub.status.busy": "2023-08-21T09:00:45.736667Z",
     "iopub.status.idle": "2023-08-21T09:00:46.042484Z",
     "shell.execute_reply": "2023-08-21T09:00:46.041294Z"
    },
    "papermill": {
     "duration": 0.319006,
     "end_time": "2023-08-21T09:00:46.044808",
     "exception": false,
     "start_time": "2023-08-21T09:00:45.725802",
     "status": "completed"
    },
    "tags": []
   },
   "outputs": [
    {
     "data": {
      "image/png": "[encoded data removed]",
      "text/plain": [
       "<Figure size 640x480 with 1 Axes>"
      ]
     },
     "metadata": {},
     "output_type": "display_data"
    }
   ],
   "source": [
    "# Group by 'source' and count reviews.\n",
    "ratings_count = threads_df['source'].value_counts().sort_index()\n",
    "\n",
    "# Plot.\n",
    "ratings_count.plot(kind='bar')\n",
    "plt.xlabel('Rating')\n",
    "plt.ylabel('Number of Reviews')\n",
    "plt.title('Number of Reviews by Store')\n",
    "plt.xticks(rotation=0)\n",
    "plt.tight_layout()\n",
    "plt.show()"
   ]
  },
  {
   "cell_type": "markdown",
   "id": "e8b94e1e",
   "metadata": {
    "papermill": {
     "duration": 0.009587,
     "end_time": "2023-08-21T09:00:46.064157",
     "exception": false,
     "start_time": "2023-08-21T09:00:46.054570",
     "status": "completed"
    },
    "tags": []
   },
   "source": [
    "Most of the reviews come from Google Play."
   ]
  },
  {
   "cell_type": "markdown",
   "id": "cc13eeda",
   "metadata": {
    "papermill": {
     "duration": 0.009599,
     "end_time": "2023-08-21T09:00:46.083680",
     "exception": false,
     "start_time": "2023-08-21T09:00:46.074081",
     "status": "completed"
    },
    "tags": []
   },
   "source": [
    "## 3.4 Temporal Series Analysis"
   ]
  },
  {
   "cell_type": "code",
   "execution_count": 11,
   "id": "818e4f5e",
   "metadata": {
    "execution": {
     "iopub.execute_input": "2023-08-21T09:00:46.105457Z",
     "iopub.status.busy": "2023-08-21T09:00:46.105057Z",
     "iopub.status.idle": "2023-08-21T09:00:46.558353Z",
     "shell.execute_reply": "2023-08-21T09:00:46.556969Z"
    },
    "papermill": {
     "duration": 0.467516,
     "end_time": "2023-08-21T09:00:46.560999",
     "exception": false,
     "start_time": "2023-08-21T09:00:46.093483",
     "status": "completed"
    },
    "tags": []
   },
   "outputs": [
    {
     "data": {
      "image/png": "[encoded data removed]",
      "text/plain": [
       "<Figure size 640x480 with 1 Axes>"
      ]
     },
     "metadata": {},
     "output_type": "display_data"
    }
   ],
   "source": [
    "# Convert 'review_date' to datetime and extract only the date part.\n",
    "\n",
    "threads_df['review_date'] = pd.to_datetime(threads_df['review_date']).dt.date\n",
    "\n",
    "# Group by 'review_date' (only the date) and count reviews.\n",
    "\n",
    "daily_reviews = threads_df.groupby('review_date').size()\n",
    "\n",
    "\n",
    "# Plot.\n",
    "\n",
    "daily_reviews.plot(kind='line', marker='o')\n",
    "plt.xlabel('Date')\n",
    "plt.ylabel('Number of Reviews')\n",
    "plt.title('Total Reviews per Date')\n",
    "plt.tight_layout()\n",
    "plt.grid(True)\n",
    "plt.xticks(rotation=45) \n",
    "plt.subplots_adjust(bottom=0.25)  \n",
    "plt.show()"
   ]
  },
  {
   "cell_type": "markdown",
   "id": "11479475",
   "metadata": {
    "papermill": {
     "duration": 0.010941,
     "end_time": "2023-08-21T09:00:46.582880",
     "exception": false,
     "start_time": "2023-08-21T09:00:46.571939",
     "status": "completed"
    },
    "tags": []
   },
   "source": [
    "In the temporal Series plot, we can check that most of the reviews came during the first days of the app release. 7 days after, the numbers of reviews dropped considerably, with August at a low"
   ]
  },
  {
   "cell_type": "markdown",
   "id": "d34b7452",
   "metadata": {
    "papermill": {
     "duration": 0.010583,
     "end_time": "2023-08-21T09:00:46.604442",
     "exception": false,
     "start_time": "2023-08-21T09:00:46.593859",
     "status": "completed"
    },
    "tags": []
   },
   "source": [
    "# 4. Data export"
   ]
  },
  {
   "cell_type": "markdown",
   "id": "5bc4a582",
   "metadata": {
    "papermill": {
     "duration": 0.010111,
     "end_time": "2023-08-21T09:00:46.624861",
     "exception": false,
     "start_time": "2023-08-21T09:00:46.614750",
     "status": "completed"
    },
    "tags": []
   },
   "source": [
    "Once the DF has been transformed and analysed, we will export it, to proceed with the NLP transformation and then with the training of the ML and RNN models. It will  be published shortly."
   ]
  },
  {
   "cell_type": "code",
   "execution_count": 12,
   "id": "06579348",
   "metadata": {
    "execution": {
     "iopub.execute_input": "2023-08-21T09:00:46.648414Z",
     "iopub.status.busy": "2023-08-21T09:00:46.647995Z",
     "iopub.status.idle": "2023-08-21T09:00:46.899222Z",
     "shell.execute_reply": "2023-08-21T09:00:46.897926Z"
    },
    "papermill": {
     "duration": 0.266015,
     "end_time": "2023-08-21T09:00:46.901869",
     "exception": false,
     "start_time": "2023-08-21T09:00:46.635854",
     "status": "completed"
    },
    "tags": []
   },
   "outputs": [],
   "source": [
    "# Export to a Parquet file.\n",
    "\n",
    "threads_df.to_parquet('/kaggle/working/threads_df.parquet')"
   ]
  }
 ],
 "metadata": {
  "kernelspec": {
   "display_name": "Python 3",
   "language": "python",
   "name": "python3"
  },
  "language_info": {
   "codemirror_mode": {
    "name": "ipython",
    "version": 3
   },
   "file_extension": ".py",
   "mimetype": "text/x-python",
   "name": "python",
   "nbconvert_exporter": "python",
   "pygments_lexer": "ipython3",
   "version": "3.10.12"
  },
  "papermill": {
   "default_parameters": {},
   "duration": 16.612353,
   "end_time": "2023-08-21T09:00:47.935076",
   "environment_variables": {},
   "exception": null,
   "input_path": "__notebook__.ipynb",
   "output_path": "__notebook__.ipynb",
   "parameters": {},
   "start_time": "2023-08-21T09:00:31.322723",
   "version": "2.4.0"
  }
 },
 "nbformat": 4,
 "nbformat_minor": 5
}
